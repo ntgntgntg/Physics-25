{
 "cells": [
  {
   "cell_type": "markdown",
   "metadata": {},
   "source": [
    "# Relativistic motion Gemini 01-10-2025"
   ]
  },
  {
   "cell_type": "markdown",
   "metadata": {},
   "source": [
    "# Try 3 Phil's colab version"
   ]
  },
  {
   "cell_type": "code",
   "execution_count": 1,
   "metadata": {},
   "outputs": [
    {
     "name": "stdout",
     "output_type": "stream",
     "text": [
      "Total proper time experienced by travelers: 6.00 years\n",
      "Total coordinate time observed from Earth: 19.52 years\n"
     ]
    }
   ],
   "source": [
    "\n",
    "import numpy as np\n",
    "from scipy.optimize import fsolve\n",
    "\n",
    "# Constants\n",
    "c = 3.0e8  # Speed of light in m/s\n",
    "g = 9.81   # Acceleration due to gravity in m/s^2\n",
    "distance_to_alpha_centauri_km = 4.37 * 9.461e12  # Distance in km\n",
    "distance_to_alpha_centauri_m = distance_to_alpha_centauri_km * 1e3  # Convert to meters\n",
    "\n",
    "# Function to calculate distance traveled based on proper time\n",
    "def distance_function(tau):\n",
    "   return (c**2 / g) * (np.sqrt(1 + (g * tau / c)**2) - 1)\n",
    "\n",
    "# Function to find the proper time for half the journey\n",
    "def equation_to_solve(tau):\n",
    "   return distance_function(tau) - (distance_to_alpha_centauri_m / 2)\n",
    "\n",
    "# Initial guess for proper time\n",
    "# initial_guess = 1.0  # in seconds\n",
    "initial_guess = 1000.0  # in seconds\n",
    "\n",
    "\n",
    "# Using fsolve to find the proper time for half the journey\n",
    "tau_half, = fsolve(equation_to_solve, initial_guess)\n",
    "\n",
    "# Total proper time for the journey (acceleration + deceleration)\n",
    "total_proper_time = 2 * tau_half  # in seconds\n",
    "\n",
    "# Convert proper time to years\n",
    "total_proper_time_years = total_proper_time / (60 * 60 * 24 * 365.25)\n",
    "\n",
    "# Calculate corresponding coordinate time\n",
    "# Using time dilation: t = tau / sqrt(1 - (v/c)^2)\n",
    "# Approximating v at maximum speed\n",
    "v_max = g * tau_half / np.sqrt(1 + (g * tau_half / c)**2)\n",
    "time_dilation_factor = np.sqrt(1 - (v_max / c)**2)\n",
    "total_coordinate_time = total_proper_time / time_dilation_factor  # in seconds\n",
    "\n",
    "# Convert coordinate time to years\n",
    "total_coordinate_time_years = total_coordinate_time / (60 * 60 * 24 * 365.25)\n",
    "\n",
    "# Output results\n",
    "print(f\"Total proper time experienced by travelers: {total_proper_time_years:.2f} years\")\n",
    "print(f\"Total coordinate time observed from Earth: {total_coordinate_time_years:.2f} years\")"
   ]
  },
  {
   "cell_type": "code",
   "execution_count": null,
   "metadata": {},
   "outputs": [],
   "source": []
  },
  {
   "cell_type": "markdown",
   "metadata": {},
   "source": [
    "## Try 2\n",
    "\n",
    "Using dimensionless equations."
   ]
  },
  {
   "cell_type": "code",
   "execution_count": 1,
   "metadata": {},
   "outputs": [
    {
     "name": "stderr",
     "output_type": "stream",
     "text": [
      "C:\\Users\\ntgla\\AppData\\Local\\Temp\\ipykernel_40536\\1433751774.py:12: RuntimeWarning: invalid value encountered in power\n",
      "  return (a0 / c) / (1 - beta**2)**(3/2)\n"
     ]
    }
   ],
   "source": [
    "import numpy as np\n",
    "from scipy.integrate import solve_ivp\n",
    "\n",
    "# Constants\n",
    "c = 299792458  # Speed of light (m/s)\n",
    "g = 9.81  # Acceleration due to gravity (m/s^2)\n",
    "light_year = 9.461e15  # Distance of one light-year (meters)\n",
    "\n",
    "def dbeta_dt(t, beta):\n",
    "    \"\"\"Calculates the derivative of normalized velocity with respect to time.\"\"\"\n",
    "    a0 = g  # Proper acceleration\n",
    "    return (a0 / c) / (1 - beta**2)**(3/2)\n",
    "\n",
    "def distance_traveled(beta):\n",
    "    \"\"\"Calculates the distance traveled as a function of normalized velocity.\"\"\"\n",
    "    # This function requires numerical integration and is not implemented here.\n",
    "    # A numerical integration method (e.g., using scipy.integrate.quad) would be needed. \n",
    "    pass\n",
    "\n",
    "# Solve the differential equation\n",
    "sol = solve_ivp(dbeta_dt, [0, 1e9], [0], method='RK45')  # Adjust t_max as needed\n",
    "\n",
    "# Find the normalized velocity at one light-year (requires numerical root finding)\n",
    "# This part needs further refinement and implementation\n",
    "\n",
    "# Print results\n",
    "# print(f\"Time to reach one light-year (Earth time): {time_to_light_year / (365.25*24*3600):.2f} years\")\n",
    "# print(f\"Final velocity: {beta_final * c:.4f} c\") \n",
    "\n",
    "# Note:\n",
    "# 1. This code provides a basic framework. \n",
    "# 2. The `distance_traveled` function needs to be implemented using numerical integration.\n",
    "# 3. Finding the normalized velocity at one light-year requires a root-finding algorithm.\n",
    "# 4. This is a simplified simulation and may require adjustments for higher accuracy."
   ]
  },
  {
   "cell_type": "markdown",
   "metadata": {},
   "source": [
    "# Try 1 \n",
    "\n",
    "Failed to converge - probably because dimensional form of the equations was used. "
   ]
  },
  {
   "cell_type": "code",
   "execution_count": 1,
   "metadata": {},
   "outputs": [
    {
     "ename": "MemoryError",
     "evalue": "Unable to allocate 74.5 GiB for an array with shape (10000000001,) and data type float64",
     "output_type": "error",
     "traceback": [
      "\u001b[1;31m---------------------------------------------------------------------------\u001b[0m",
      "\u001b[1;31mMemoryError\u001b[0m                               Traceback (most recent call last)",
      "Cell \u001b[1;32mIn[1], line 44\u001b[0m\n\u001b[0;32m     41\u001b[0m v0 \u001b[38;5;241m=\u001b[39m \u001b[38;5;241m0\u001b[39m  \u001b[38;5;66;03m# Initial velocity (m/s)\u001b[39;00m\n\u001b[0;32m     43\u001b[0m \u001b[38;5;66;03m# Perform Runge-Kutta integration\u001b[39;00m\n\u001b[1;32m---> 44\u001b[0m t, v \u001b[38;5;241m=\u001b[39m runge_kutta_4(velocity_derivative, v0, \u001b[38;5;241m0\u001b[39m, t_max, dt)\n\u001b[0;32m     46\u001b[0m \u001b[38;5;66;03m# Calculate distance traveled\u001b[39;00m\n\u001b[0;32m     47\u001b[0m distance \u001b[38;5;241m=\u001b[39m np\u001b[38;5;241m.\u001b[39mcumsum(v) \u001b[38;5;241m*\u001b[39m dt\n",
      "Cell \u001b[1;32mIn[1], line 20\u001b[0m, in \u001b[0;36mrunge_kutta_4\u001b[1;34m(f, y0, t0, tf, dt)\u001b[0m\n\u001b[0;32m     18\u001b[0m \u001b[38;5;250m\u001b[39m\u001b[38;5;124;03m\"\"\"Performs a 4th order Runge-Kutta integration.\"\"\"\u001b[39;00m\n\u001b[0;32m     19\u001b[0m t \u001b[38;5;241m=\u001b[39m np\u001b[38;5;241m.\u001b[39marange(t0, tf \u001b[38;5;241m+\u001b[39m dt, dt)\n\u001b[1;32m---> 20\u001b[0m y \u001b[38;5;241m=\u001b[39m np\u001b[38;5;241m.\u001b[39mzeros_like(t)\n\u001b[0;32m     21\u001b[0m y[\u001b[38;5;241m0\u001b[39m] \u001b[38;5;241m=\u001b[39m y0\n\u001b[0;32m     23\u001b[0m \u001b[38;5;28;01mfor\u001b[39;00m i \u001b[38;5;129;01min\u001b[39;00m \u001b[38;5;28mrange\u001b[39m(\u001b[38;5;28mlen\u001b[39m(t) \u001b[38;5;241m-\u001b[39m \u001b[38;5;241m1\u001b[39m):\n",
      "File \u001b[1;32mc:\\Users\\ntgla\\anaconda3\\Lib\\site-packages\\numpy\\core\\numeric.py:129\u001b[0m, in \u001b[0;36mzeros_like\u001b[1;34m(a, dtype, order, subok, shape)\u001b[0m\n\u001b[0;32m     67\u001b[0m \u001b[38;5;129m@array_function_dispatch\u001b[39m(_zeros_like_dispatcher)\n\u001b[0;32m     68\u001b[0m \u001b[38;5;28;01mdef\u001b[39;00m \u001b[38;5;21mzeros_like\u001b[39m(a, dtype\u001b[38;5;241m=\u001b[39m\u001b[38;5;28;01mNone\u001b[39;00m, order\u001b[38;5;241m=\u001b[39m\u001b[38;5;124m'\u001b[39m\u001b[38;5;124mK\u001b[39m\u001b[38;5;124m'\u001b[39m, subok\u001b[38;5;241m=\u001b[39m\u001b[38;5;28;01mTrue\u001b[39;00m, shape\u001b[38;5;241m=\u001b[39m\u001b[38;5;28;01mNone\u001b[39;00m):\n\u001b[0;32m     69\u001b[0m \u001b[38;5;250m    \u001b[39m\u001b[38;5;124;03m\"\"\"\u001b[39;00m\n\u001b[0;32m     70\u001b[0m \u001b[38;5;124;03m    Return an array of zeros with the same shape and type as a given array.\u001b[39;00m\n\u001b[0;32m     71\u001b[0m \n\u001b[1;32m   (...)\u001b[0m\n\u001b[0;32m    127\u001b[0m \n\u001b[0;32m    128\u001b[0m \u001b[38;5;124;03m    \"\"\"\u001b[39;00m\n\u001b[1;32m--> 129\u001b[0m     res \u001b[38;5;241m=\u001b[39m empty_like(a, dtype\u001b[38;5;241m=\u001b[39mdtype, order\u001b[38;5;241m=\u001b[39morder, subok\u001b[38;5;241m=\u001b[39msubok, shape\u001b[38;5;241m=\u001b[39mshape)\n\u001b[0;32m    130\u001b[0m     \u001b[38;5;66;03m# needed instead of a 0 to get same result as zeros for string dtypes\u001b[39;00m\n\u001b[0;32m    131\u001b[0m     z \u001b[38;5;241m=\u001b[39m zeros(\u001b[38;5;241m1\u001b[39m, dtype\u001b[38;5;241m=\u001b[39mres\u001b[38;5;241m.\u001b[39mdtype)\n",
      "\u001b[1;31mMemoryError\u001b[0m: Unable to allocate 74.5 GiB for an array with shape (10000000001,) and data type float64"
     ]
    }
   ],
   "source": [
    "import numpy as np\n",
    "\n",
    "# Constants\n",
    "c = 299792458  # Speed of light (m/s)\n",
    "g = 9.81  # Acceleration due to gravity (m/s^2)\n",
    "light_year = 9.461e15  # Distance of one light-year (meters)\n",
    "\n",
    "def lorentz_factor(v):\n",
    "    \"\"\"Calculates the Lorentz factor.\"\"\"\n",
    "    return 1 / np.sqrt(1 - (v/c)**2)\n",
    "\n",
    "def relativistic_acceleration(v, a0):\n",
    "    \"\"\"Calculates the coordinate acceleration.\"\"\"\n",
    "    gamma = lorentz_factor(v)\n",
    "    return a0 / (gamma**3)\n",
    "\n",
    "def runge_kutta_4(f, y0, t0, tf, dt):\n",
    "    \"\"\"Performs a 4th order Runge-Kutta integration.\"\"\"\n",
    "    t = np.arange(t0, tf + dt, dt)\n",
    "    y = np.zeros_like(t)\n",
    "    y[0] = y0\n",
    "\n",
    "    for i in range(len(t) - 1):\n",
    "        k1 = dt * f(t[i], y[i])\n",
    "        k2 = dt * f(t[i] + dt/2, y[i] + k1/2)\n",
    "        k3 = dt * f(t[i] + dt/2, y[i] + k2/2)\n",
    "        k4 = dt * f(t[i] + dt, y[i] + k3)\n",
    "        y[i+1] = y[i] + (k1 + 2*k2 + 2*k3 + k4) / 6\n",
    "\n",
    "    return t, y\n",
    "\n",
    "def velocity_derivative(t, v):\n",
    "    \"\"\"Calculates the derivative of velocity with respect to time.\"\"\"\n",
    "    return relativistic_acceleration(v, g)\n",
    "\n",
    "# Simulation parameters\n",
    "dt = 0.1  # Time step (seconds)\n",
    "t_max = 1e9  # Maximum simulation time (seconds)\n",
    "\n",
    "# Initial conditions\n",
    "v0 = 0  # Initial velocity (m/s)\n",
    "\n",
    "# Perform Runge-Kutta integration\n",
    "t, v = runge_kutta_4(velocity_derivative, v0, 0, t_max, dt)\n",
    "\n",
    "# Calculate distance traveled\n",
    "distance = np.cumsum(v) * dt\n",
    "\n",
    "# Find time to reach one light-year\n",
    "time_to_light_year = t[np.argmin(np.abs(distance - light_year))]\n",
    "\n",
    "# Calculate final velocity at one light-year\n",
    "final_velocity = v[np.argmin(np.abs(distance - light_year))]\n",
    "\n",
    "# Print results\n",
    "print(f\"Time to reach one light-year (Earth time): {time_to_light_year / (365.25*24*3600):.2f} years\")\n",
    "print(f\"Final velocity: {final_velocity / c:.4f} c\") \n",
    "\n",
    "# Note:\n",
    "# This is a simplified simulation and may not be perfectly accurate due to numerical\n",
    "# errors and the relatively large time step. \n",
    "# For more accurate results, smaller time steps and potentially more sophisticated\n",
    "# numerical integration methods could be used."
   ]
  },
  {
   "cell_type": "markdown",
   "metadata": {},
   "source": []
  }
 ],
 "metadata": {
  "kernelspec": {
   "display_name": "base",
   "language": "python",
   "name": "python3"
  },
  "language_info": {
   "codemirror_mode": {
    "name": "ipython",
    "version": 3
   },
   "file_extension": ".py",
   "mimetype": "text/x-python",
   "name": "python",
   "nbconvert_exporter": "python",
   "pygments_lexer": "ipython3",
   "version": "3.12.4"
  }
 },
 "nbformat": 4,
 "nbformat_minor": 2
}
